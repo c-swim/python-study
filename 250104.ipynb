{
  "nbformat": 4,
  "nbformat_minor": 0,
  "metadata": {
    "colab": {
      "provenance": [],
      "authorship_tag": "ABX9TyNnSjlFAk0d/REBCORhPM/T",
      "include_colab_link": true
    },
    "kernelspec": {
      "name": "python3",
      "display_name": "Python 3"
    },
    "language_info": {
      "name": "python"
    }
  },
  "cells": [
    {
      "cell_type": "markdown",
      "metadata": {
        "id": "view-in-github",
        "colab_type": "text"
      },
      "source": [
        "<a href=\"https://colab.research.google.com/github/c-swim/python-study/blob/main/250104.ipynb\" target=\"_parent\"><img src=\"https://colab.research.google.com/assets/colab-badge.svg\" alt=\"Open In Colab\"/></a>"
      ]
    },
    {
      "cell_type": "code",
      "execution_count": null,
      "metadata": {
        "id": "VYdVaeq6_7bc"
      },
      "outputs": [],
      "source": [
        "#3장 되새김 문제"
      ]
    },
    {
      "cell_type": "code",
      "source": [
        "#Q1 > 예상: shirt\n",
        "\n",
        "a = \"Life is too short, you need python\"\n",
        "\n",
        "if \"wife\" in a: print(\"wife\")\n",
        "elif \"python\" in a and \"you\" not in a: print(\"python\")\n",
        "elif \"shirt\" not in a: print(\"shirt\")\n",
        "elif \"need\" in a: print(\"need\")\n",
        "else: print(\"none\")"
      ],
      "metadata": {
        "colab": {
          "base_uri": "https://localhost:8080/"
        },
        "id": "LEbaJR2tLrqL",
        "outputId": "37dc8403-afcd-4925-ffea-35e076993ed1"
      },
      "execution_count": null,
      "outputs": [
        {
          "output_type": "stream",
          "name": "stdout",
          "text": [
            "shirt\n"
          ]
        }
      ]
    },
    {
      "cell_type": "code",
      "source": [
        "#Q2\n",
        "\n",
        "result = 0\n",
        "i = 1\n",
        "while i <= 1000:\n",
        "    if i % 3 == 0:\n",
        "        result += i\n",
        "    i += 1\n",
        "print(result)"
      ],
      "metadata": {
        "colab": {
          "base_uri": "https://localhost:8080/"
        },
        "id": "k4PYNOEnL5Tb",
        "outputId": "b19c9a78-af01-4c52-b4ee-5cf4ed10e8f8"
      },
      "execution_count": null,
      "outputs": [
        {
          "output_type": "stream",
          "name": "stdout",
          "text": [
            "166833\n"
          ]
        }
      ]
    },
    {
      "cell_type": "code",
      "source": [
        "#Q3\n",
        "\n",
        "i=0\n",
        "while True:\n",
        "  i += 1\n",
        "  if 5<i: break\n",
        "  print('*'*i)"
      ],
      "metadata": {
        "colab": {
          "base_uri": "https://localhost:8080/"
        },
        "id": "Wcyp_JZvRENt",
        "outputId": "e46f62d4-3193-4aaf-96b3-8d85f2e1628b"
      },
      "execution_count": null,
      "outputs": [
        {
          "output_type": "stream",
          "name": "stdout",
          "text": [
            "*\n",
            "**\n",
            "***\n",
            "****\n",
            "*****\n"
          ]
        }
      ]
    },
    {
      "cell_type": "code",
      "source": [
        "#Q4  <<전부 출력하기에는 길어서 변형 조금 추가함.\n",
        "\n",
        "for i in range(10):\n",
        "  for j in range (1,11):\n",
        "    print(i*10+j, end =' ')\n",
        "  print()"
      ],
      "metadata": {
        "colab": {
          "base_uri": "https://localhost:8080/"
        },
        "id": "B9qC8C1BRIJV",
        "outputId": "9ff25ed1-7ec5-4ff1-8dad-ccf4a8ec40f7"
      },
      "execution_count": null,
      "outputs": [
        {
          "output_type": "stream",
          "name": "stdout",
          "text": [
            "1 2 3 4 5 6 7 8 9 10 \n",
            "11 12 13 14 15 16 17 18 19 20 \n",
            "21 22 23 24 25 26 27 28 29 30 \n",
            "31 32 33 34 35 36 37 38 39 40 \n",
            "41 42 43 44 45 46 47 48 49 50 \n",
            "51 52 53 54 55 56 57 58 59 60 \n",
            "61 62 63 64 65 66 67 68 69 70 \n",
            "71 72 73 74 75 76 77 78 79 80 \n",
            "81 82 83 84 85 86 87 88 89 90 \n",
            "91 92 93 94 95 96 97 98 99 100 \n"
          ]
        }
      ]
    },
    {
      "cell_type": "code",
      "source": [
        "#Q5\n",
        "\n",
        "A = [70,60,55,75,95,90,80,80,85,100]\n",
        "total = 0\n",
        "for score in A:\n",
        "  total += score\n",
        "average = total / len(A)\n",
        "print(average)"
      ],
      "metadata": {
        "colab": {
          "base_uri": "https://localhost:8080/"
        },
        "id": "J1szuyMlRWCX",
        "outputId": "bf0360ea-3b74-4d0d-acf7-897b8765a30d"
      },
      "execution_count": null,
      "outputs": [
        {
          "output_type": "stream",
          "name": "stdout",
          "text": [
            "79.0\n"
          ]
        }
      ]
    },
    {
      "cell_type": "code",
      "source": [
        "#Q6\n",
        "\n",
        "# numbers = [1,2,3,4,5]\n",
        "# result = []\n",
        "# for n in numbers:\n",
        "#   if n%2==1:\n",
        "#     result.append(n*2)\n",
        "\n",
        "numbers = [1,2,3,4,5]\n",
        "result = [n*2 for n in numbers if n%2==1]\n",
        "print(result)"
      ],
      "metadata": {
        "colab": {
          "base_uri": "https://localhost:8080/"
        },
        "id": "8D28OiRgSNT2",
        "outputId": "422cce30-7d35-4833-c372-99acc5021c2e"
      },
      "execution_count": null,
      "outputs": [
        {
          "output_type": "stream",
          "name": "stdout",
          "text": [
            "[2, 6, 10]\n"
          ]
        }
      ]
    }
  ]
}