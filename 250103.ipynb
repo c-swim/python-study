{
  "nbformat": 4,
  "nbformat_minor": 0,
  "metadata": {
    "colab": {
      "provenance": [],
      "authorship_tag": "ABX9TyPrLjQdCq63G0KZ9bX9gyuq",
      "include_colab_link": true
    },
    "kernelspec": {
      "name": "python3",
      "display_name": "Python 3"
    },
    "language_info": {
      "name": "python"
    }
  },
  "cells": [
    {
      "cell_type": "markdown",
      "metadata": {
        "id": "view-in-github",
        "colab_type": "text"
      },
      "source": [
        "<a href=\"https://colab.research.google.com/github/c-swim/python-study/blob/main/250103.ipynb\" target=\"_parent\"><img src=\"https://colab.research.google.com/assets/colab-badge.svg\" alt=\"Open In Colab\"/></a>"
      ]
    },
    {
      "cell_type": "code",
      "execution_count": null,
      "metadata": {
        "id": "YcJdK42z5m_u",
        "colab": {
          "base_uri": "https://localhost:8080/"
        },
        "outputId": "b0119661-e693-4362-d538-73e7bd83aeb6"
      },
      "outputs": [
        {
          "output_type": "stream",
          "name": "stdout",
          "text": [
            "3262\n"
          ]
        }
      ],
      "source": [
        "#연산자 활용\n",
        "print(10*18**2+2*11)"
      ]
    },
    {
      "cell_type": "code",
      "source": [
        "#몫과 나머지\n",
        "n1 = 14//3\n",
        "n2 = 14%3\n",
        "print(\"몫 : \",n1,\"나머지 : \",n2)"
      ],
      "metadata": {
        "colab": {
          "base_uri": "https://localhost:8080/"
        },
        "id": "JEG1nAyCwjVA",
        "outputId": "cb6c8fd3-51ff-4908-f63d-15e09fd6a07a"
      },
      "execution_count": null,
      "outputs": [
        {
          "output_type": "stream",
          "name": "stdout",
          "text": [
            "몫 :  4 나머지 :  2\n"
          ]
        }
      ]
    },
    {
      "cell_type": "code",
      "source": [
        "#multistring.py\n",
        "print(\"=\"*50)\n",
        "print(\"My program\")\n",
        "print(\"=\"*50)"
      ],
      "metadata": {
        "colab": {
          "base_uri": "https://localhost:8080/"
        },
        "id": "kXhm8x58wpBK",
        "outputId": "71514bf9-5a8f-41c7-cbc4-62caa6ce8626"
      },
      "execution_count": null,
      "outputs": [
        {
          "output_type": "stream",
          "name": "stdout",
          "text": [
            "==================================================\n",
            "My program\n",
            "==================================================\n"
          ]
        }
      ]
    },
    {
      "cell_type": "code",
      "source": [
        "a= 'You need python'\n",
        "len(a)"
      ],
      "metadata": {
        "colab": {
          "base_uri": "https://localhost:8080/"
        },
        "id": "sP8UFss7zFXP",
        "outputId": "6f5553c6-11bf-4b17-8580-3d34b5b2b04d"
      },
      "execution_count": null,
      "outputs": [
        {
          "output_type": "execute_result",
          "data": {
            "text/plain": [
              "15"
            ]
          },
          "metadata": {},
          "execution_count": 4
        }
      ]
    },
    {
      "cell_type": "code",
      "source": [
        "#pithon to python\n",
        "a=\"Pithon\"\n",
        "\n",
        "a[:1]+\"y\"+a[2:]"
      ],
      "metadata": {
        "colab": {
          "base_uri": "https://localhost:8080/",
          "height": 35
        },
        "id": "LasIAceZzNSw",
        "outputId": "9ba37391-df54-4325-e4a8-debce489b7eb"
      },
      "execution_count": null,
      "outputs": [
        {
          "output_type": "execute_result",
          "data": {
            "text/plain": [
              "'Python'"
            ],
            "application/vnd.google.colaboratory.intrinsic+json": {
              "type": "string"
            }
          },
          "metadata": {},
          "execution_count": 6
        }
      ]
    },
    {
      "cell_type": "code",
      "source": [
        "#2장 되새김 문제\n",
        "\n",
        "#Q1\n",
        "Grade = [80,75,55]\n",
        "sum=0\n",
        "\n",
        "for i in Grade :\n",
        "  sum += i\n",
        "avg = sum/len(Grade)\n",
        "\n",
        "print(avg)"
      ],
      "metadata": {
        "id": "Yycqby1Lzk8x",
        "colab": {
          "base_uri": "https://localhost:8080/"
        },
        "outputId": "78889259-fd4a-49dc-9d23-d97944fcd0ff"
      },
      "execution_count": 29,
      "outputs": [
        {
          "output_type": "stream",
          "name": "stdout",
          "text": [
            "70.0\n"
          ]
        }
      ]
    },
    {
      "cell_type": "code",
      "source": [
        "#Q2\n",
        "\n",
        "if 13%2==0 :\n",
        "  print(\"even\")\n",
        "else:\n",
        "  print(\"odd\")"
      ],
      "metadata": {
        "id": "hj7wPtMkB2Os",
        "colab": {
          "base_uri": "https://localhost:8080/"
        },
        "outputId": "423c4a6b-982a-4b3e-9ffb-57fd97f32fac"
      },
      "execution_count": 1,
      "outputs": [
        {
          "output_type": "stream",
          "name": "stdout",
          "text": [
            "odd\n"
          ]
        }
      ]
    },
    {
      "cell_type": "code",
      "source": [
        "#Q3\n",
        "\n",
        "pin = \"881120-1068234\"\n",
        "yyyymmdd=pin[:6]\n",
        "num=pin[-6:]\n",
        "print(yyyymmdd)\n",
        "print(num)\n",
        "\n",
        "#Q4\n",
        "print(pin[7])"
      ],
      "metadata": {
        "id": "VxUlgtUg9lYl",
        "colab": {
          "base_uri": "https://localhost:8080/"
        },
        "outputId": "bf9e1f66-e4ad-459b-bfdc-9c5945f50868"
      },
      "execution_count": 7,
      "outputs": [
        {
          "output_type": "stream",
          "name": "stdout",
          "text": [
            "881120\n",
            "068234\n",
            "1\n"
          ]
        }
      ]
    },
    {
      "cell_type": "code",
      "source": [
        "#Q5\n",
        "\n",
        "a= \"a:b:c:d\"\n",
        "b=a.replace(\":\",\"#\")\n",
        "print(b)"
      ],
      "metadata": {
        "colab": {
          "base_uri": "https://localhost:8080/"
        },
        "id": "HbNX0WWQv0jh",
        "outputId": "b7325754-f12c-41e8-c818-8a17affe52a0"
      },
      "execution_count": 11,
      "outputs": [
        {
          "output_type": "stream",
          "name": "stdout",
          "text": [
            "a#b#c#d\n"
          ]
        }
      ]
    },
    {
      "cell_type": "code",
      "source": [
        "#Q6\n",
        "\n",
        "a=[1,3,5,4,2]\n",
        "a.sort()\n",
        "a.reverse()\n",
        "print(a)"
      ],
      "metadata": {
        "colab": {
          "base_uri": "https://localhost:8080/"
        },
        "id": "vHxd7BRvwmWe",
        "outputId": "c00dee3f-a773-4d51-d8c2-1c744920dfd4"
      },
      "execution_count": 12,
      "outputs": [
        {
          "output_type": "stream",
          "name": "stdout",
          "text": [
            "[5, 4, 3, 2, 1]\n"
          ]
        }
      ]
    },
    {
      "cell_type": "code",
      "source": [
        "#Q7\n",
        "\n",
        "a= ['Life','is','too','short']\n",
        "result = \" \".join(a)\n",
        "print(result)"
      ],
      "metadata": {
        "colab": {
          "base_uri": "https://localhost:8080/"
        },
        "id": "WKOZUvKAxIIb",
        "outputId": "684e2a77-79d7-4198-8351-715e201d344b"
      },
      "execution_count": 14,
      "outputs": [
        {
          "output_type": "stream",
          "name": "stdout",
          "text": [
            "Life is too short\n"
          ]
        }
      ]
    },
    {
      "cell_type": "code",
      "source": [
        "#Q8\n",
        "\n",
        "a= (1,2,3)\n",
        "a += (4,)\n",
        "print(a)"
      ],
      "metadata": {
        "colab": {
          "base_uri": "https://localhost:8080/"
        },
        "id": "F3gkfc-4xpzm",
        "outputId": "afca0868-b8cf-48a8-cbd0-2e608178fd75"
      },
      "execution_count": 23,
      "outputs": [
        {
          "output_type": "stream",
          "name": "stdout",
          "text": [
            "(1, 2, 3, 4)\n"
          ]
        }
      ]
    },
    {
      "cell_type": "code",
      "source": [
        "#Q9\n",
        "\n",
        "a=dict()\n",
        "a['name'] = 'python'\n",
        "a[('a',)] = 'python'\n",
        "a[[1]] = 'python'  #>> key에 [1],리스트 형식이 들어갔는데 이름이 안적힘\n",
        "a[250] = 'python'\n",
        "\n",
        "a"
      ],
      "metadata": {
        "colab": {
          "base_uri": "https://localhost:8080/",
          "height": 221
        },
        "id": "8XIcbDIPy0FX",
        "outputId": "aa2d4406-a3a9-42bc-a83c-e7042892cb40"
      },
      "execution_count": 28,
      "outputs": [
        {
          "output_type": "error",
          "ename": "TypeError",
          "evalue": "unhashable type: 'list'",
          "traceback": [
            "\u001b[0;31m---------------------------------------------------------------------------\u001b[0m",
            "\u001b[0;31mTypeError\u001b[0m                                 Traceback (most recent call last)",
            "\u001b[0;32m<ipython-input-28-a1cd2dcaa36f>\u001b[0m in \u001b[0;36m<cell line: 6>\u001b[0;34m()\u001b[0m\n\u001b[1;32m      4\u001b[0m \u001b[0ma\u001b[0m\u001b[0;34m[\u001b[0m\u001b[0;34m'name'\u001b[0m\u001b[0;34m]\u001b[0m \u001b[0;34m=\u001b[0m \u001b[0;34m'python'\u001b[0m\u001b[0;34m\u001b[0m\u001b[0;34m\u001b[0m\u001b[0m\n\u001b[1;32m      5\u001b[0m \u001b[0ma\u001b[0m\u001b[0;34m[\u001b[0m\u001b[0;34m(\u001b[0m\u001b[0;34m'a'\u001b[0m\u001b[0;34m,\u001b[0m\u001b[0;34m)\u001b[0m\u001b[0;34m]\u001b[0m \u001b[0;34m=\u001b[0m \u001b[0;34m'python'\u001b[0m\u001b[0;34m\u001b[0m\u001b[0;34m\u001b[0m\u001b[0m\n\u001b[0;32m----> 6\u001b[0;31m \u001b[0ma\u001b[0m\u001b[0;34m[\u001b[0m\u001b[0;34m[\u001b[0m\u001b[0;36m1\u001b[0m\u001b[0;34m]\u001b[0m\u001b[0;34m]\u001b[0m \u001b[0;34m=\u001b[0m \u001b[0;34m'python'\u001b[0m  \u001b[0;31m#>> key에 [1],리스트 형식이 들어갔는데 이름이 안적힘\u001b[0m\u001b[0;34m\u001b[0m\u001b[0;34m\u001b[0m\u001b[0m\n\u001b[0m\u001b[1;32m      7\u001b[0m \u001b[0ma\u001b[0m\u001b[0;34m[\u001b[0m\u001b[0;36m250\u001b[0m\u001b[0;34m]\u001b[0m \u001b[0;34m=\u001b[0m \u001b[0;34m'python'\u001b[0m\u001b[0;34m\u001b[0m\u001b[0;34m\u001b[0m\u001b[0m\n\u001b[1;32m      8\u001b[0m \u001b[0;34m\u001b[0m\u001b[0m\n",
            "\u001b[0;31mTypeError\u001b[0m: unhashable type: 'list'"
          ]
        }
      ]
    },
    {
      "cell_type": "code",
      "source": [
        "#Q10\n",
        "\n",
        "#Q1\n",
        "a = {'A':90,'B':80,'C':70}\n",
        "result = a.pop('B')\n",
        "\n",
        "print(a)\n",
        "print(result)"
      ],
      "metadata": {
        "colab": {
          "base_uri": "https://localhost:8080/"
        },
        "id": "cpALC9wkzgxz",
        "outputId": "798aa505-4d7e-4a2f-df72-8367a4f2481a"
      },
      "execution_count": 30,
      "outputs": [
        {
          "output_type": "stream",
          "name": "stdout",
          "text": [
            "{'A': 90, 'C': 70}\n",
            "80\n"
          ]
        }
      ]
    },
    {
      "cell_type": "code",
      "source": [
        "#Q11\n",
        "\n",
        "a =[1,1,1,2,2,3,3,3,4,4,5]\n",
        "aSet = set(a)\n",
        "#print(aSet)\n",
        "b=list(aSet)\n",
        "print(b)"
      ],
      "metadata": {
        "colab": {
          "base_uri": "https://localhost:8080/"
        },
        "id": "0XrYfJlU1c8_",
        "outputId": "5b93edbf-899a-41e2-a67f-b019972edd9e"
      },
      "execution_count": 34,
      "outputs": [
        {
          "output_type": "stream",
          "name": "stdout",
          "text": [
            "{1, 2, 3, 4, 5}\n",
            "[1, 2, 3, 4, 5]\n"
          ]
        }
      ]
    },
    {
      "cell_type": "code",
      "source": [
        "#Q12\n",
        "\n",
        "a=b=[1,2,3]\n",
        "a[1]=4\n",
        "print(b) #a=b, id값이 같아 a를 바꿨음에도 b도 같이 바뀜"
      ],
      "metadata": {
        "colab": {
          "base_uri": "https://localhost:8080/"
        },
        "id": "Fqolwwrh1pRz",
        "outputId": "3e6bca8b-3a24-4c94-ce51-4e8788f7a1f2"
      },
      "execution_count": 35,
      "outputs": [
        {
          "output_type": "stream",
          "name": "stdout",
          "text": [
            "[1, 4, 3]\n"
          ]
        }
      ]
    }
  ]
}